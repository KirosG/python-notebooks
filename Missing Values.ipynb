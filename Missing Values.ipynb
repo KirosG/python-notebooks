{
 "cells": [
  {
   "cell_type": "markdown",
   "metadata": {},
   "source": [
    "# How to check and handle missing values"
   ]
  },
  {
   "cell_type": "code",
   "execution_count": 2,
   "metadata": {
    "collapsed": true
   },
   "outputs": [],
   "source": [
    "import pandas as pd"
   ]
  },
  {
   "cell_type": "code",
   "execution_count": 10,
   "metadata": {
    "collapsed": false
   },
   "outputs": [
    {
     "name": "stdout",
     "output_type": "stream",
     "text": [
      "raw data dataframe size: (326, 12)\n"
     ]
    }
   ],
   "source": [
    "rawdata='C:/Python34/datasets/nurmijarvi_asunnot_250316.csv'\n",
    "df = pd.read_csv(rawdata)\n",
    "print(\"raw data dataframe size:\",df.shape)"
   ]
  },
  {
   "cell_type": "code",
   "execution_count": 13,
   "metadata": {
    "collapsed": false
   },
   "outputs": [
    {
     "name": "stdout",
     "output_type": "stream",
     "text": [
      "         Huoneet          m2             Vh   Neliohinta           Rv\n",
      "count  326.00000  326.000000     326.000000   326.000000   326.000000\n",
      "mean     3.07362   92.549693  198117.846626  2241.496933  1991.128834\n",
      "std      0.94825   42.465746   87314.850608   726.253123    17.939264\n",
      "min      1.00000   21.000000   21525.000000   439.000000  1901.000000\n",
      "25%      2.00000   60.000000  145000.000000  1843.250000  1979.000000\n",
      "50%      3.00000   80.750000  190250.000000  2197.000000  1990.000000\n",
      "75%      4.00000  117.000000  244750.000000  2657.000000  2005.750000\n",
      "max      4.00000  238.000000  495000.000000  5429.000000  2016.000000\n",
      "Klaukkala     158\n",
      "Kirkonkylä     78\n",
      "Rajamäki       42\n",
      "Röykkä          8\n",
      "Lepsämä         6\n",
      "Nurmijärvi      6\n",
      "Perttula        6\n",
      "Palojoki        2\n",
      "Mäntysalo       1\n",
      "Alppila         1\n",
      "Raala           1\n",
      "Name: Kaupunginosa, dtype: int64\n"
     ]
    }
   ],
   "source": [
    "print(df.describe())\n",
    "print(df['Kaupunginosa'].value_counts())"
   ]
  },
  {
   "cell_type": "code",
   "execution_count": 8,
   "metadata": {
    "collapsed": false
   },
   "outputs": [
    {
     "name": "stdout",
     "output_type": "stream",
     "text": [
      "Missing values in columns:\n",
      " Kaupunginosa     17\n",
      "Huoneet           0\n",
      "Huoneisto         0\n",
      "Talotiedot        0\n",
      "m2                0\n",
      "Vh                0\n",
      "Neliohinta        0\n",
      "Rv                0\n",
      "Krs             138\n",
      "Hissi             0\n",
      "Kunto             0\n",
      "Unnamed: 11     321\n",
      "dtype: int64\n"
     ]
    }
   ],
   "source": [
    "missValues=df.apply(lambda x: sum(x.isnull()),axis=0)\n",
    "print('Missing values in columns:\\n',missValues)"
   ]
  },
  {
   "cell_type": "code",
   "execution_count": null,
   "metadata": {
    "collapsed": true
   },
   "outputs": [],
   "source": []
  }
 ],
 "metadata": {
  "kernelspec": {
   "display_name": "Python 3",
   "language": "python",
   "name": "python3"
  },
  "language_info": {
   "codemirror_mode": {
    "name": "ipython",
    "version": 3
   },
   "file_extension": ".py",
   "mimetype": "text/x-python",
   "name": "python",
   "nbconvert_exporter": "python",
   "pygments_lexer": "ipython3",
   "version": "3.5.1"
  }
 },
 "nbformat": 4,
 "nbformat_minor": 0
}
