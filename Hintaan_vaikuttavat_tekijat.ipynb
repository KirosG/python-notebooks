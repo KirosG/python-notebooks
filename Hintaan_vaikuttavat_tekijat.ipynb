{
 "cells": [
  {
   "cell_type": "markdown",
   "metadata": {},
   "source": [
    "# Asuntojen hinnan muodostuminen"
   ]
  },
  {
   "cell_type": "markdown",
   "metadata": {},
   "source": [
    "Tarkastellaan asuntojen hintojen muodustumista.\n",
    "\n",
    "Datassa seuraavat muuttujat \n",
    "['Kaupunginosa','Huoneet','Talotiedot','m2','Vh','Neliohinta','Rv']\n",
    "\n",
    "A. Millaisia korrelaatiota eri tekijöiden välillä on?\n",
    "- korrelaatiomatriisi ja -kertoimet\n",
    "\n",
    "B. Pääkomponenttianalyysi (PCA)\n",
    "-> Olennaisesti neljä pääkomponenttia\n",
    "\n",
    "Mitkä tekijät selittävät asunnon velatonta hintaa tai neliöhintaa? \n",
    "- Ennustava malli esimerkiksi: Vh ~ Kaupunginosa, Huoneet, Talotiedot, m2, Rv\n",
    "- Ennustava malli esimerkiksi: Neliohinta ~ Kaupunginosa, Huoneet, Talotiedoet, m2, Rv\n",
    "- Vh ~ m2, Kaupunginosa, Talotiedot, Rv\n",
    "\n",
    "C. OLS \n"
   ]
  },
  {
   "cell_type": "code",
   "execution_count": 337,
   "metadata": {
    "collapsed": false
   },
   "outputs": [],
   "source": [
    "import numpy as np\n",
    "import pandas as pd\n",
    "import matplotlib.pyplot as plt\n",
    "import statsmodels.api as sm"
   ]
  },
  {
   "cell_type": "code",
   "execution_count": 338,
   "metadata": {
    "collapsed": false
   },
   "outputs": [],
   "source": [
    "rawdata='C://Python34/datasets/asunnot_250316_cleaned_numerical3.csv'\n",
    "df_raw = pd.read_csv(rawdata,header=None)\n",
    "column_names = ['Kaupunginosa','Huoneet','Talotiedot','m2','Vh','Neliohinta','Rv']\n",
    "#print(df_raw.head(2))\n",
    "df=df_raw.ix[:, [0,1,2,3,4,5,6]]\n",
    "\n",
    "\n"
   ]
  },
  {
   "cell_type": "markdown",
   "metadata": {},
   "source": [
    "Select variables and target for linear regression"
   ]
  },
  {
   "cell_type": "code",
   "execution_count": 339,
   "metadata": {
    "collapsed": true
   },
   "outputs": [],
   "source": [
    "# Here chosen Talotiedot,m2,Rv\n",
    "df_ols=df_raw.ix[:, [2,3,6]]\n",
    "df_target=df_raw.ix[:,4]"
   ]
  },
  {
   "cell_type": "code",
   "execution_count": 340,
   "metadata": {
    "collapsed": false,
    "scrolled": true
   },
   "outputs": [
    {
     "name": "stdout",
     "output_type": "stream",
     "text": [
      "[[  1.02510241e+01   1.96432279e-01   6.25219443e-01   1.24690533e+01\n",
      "   -3.52271026e+03  -3.33294082e+02  -4.91624351e+00]\n",
      " [  1.96432279e-01   8.99178858e-01   4.80773950e-01   3.17630996e+01\n",
      "    5.77472821e+04  -1.35255158e+02   3.72024540e-01]\n",
      " [  6.25219443e-01   4.80773950e-01   6.40349221e-01   2.33795224e+01\n",
      "    4.46439027e+04  -6.14263143e+01  -2.31941482e+00]\n",
      " [  1.24690533e+01   3.17630996e+01   2.33795224e+01   1.80333955e+03\n",
      "    2.76126320e+06  -9.35927400e+03  -5.74516527e+01]\n",
      " [ -3.52271026e+03   5.77472821e+04   4.46439027e+04   2.76126320e+06\n",
      "    7.62388314e+09   1.97673039e+07   3.75706475e+05]\n",
      " [ -3.33294082e+02  -1.35255158e+02  -6.14263143e+01  -9.35927400e+03\n",
      "    1.97673039e+07   5.27443598e+05   4.85604040e+03]\n",
      " [ -4.91624351e+00   3.72024540e-01  -2.31941482e+00  -5.74516527e+01\n",
      "    3.75706475e+05   4.85604040e+03   3.21817197e+02]]\n"
     ]
    }
   ],
   "source": [
    "# Full covariance table\n",
    "covtable=np.cov(df,rowvar=False)\n",
    "print(np.cov(df,rowvar=False))"
   ]
  },
  {
   "cell_type": "code",
   "execution_count": 341,
   "metadata": {
    "collapsed": false
   },
   "outputs": [
    {
     "name": "stdout",
     "output_type": "stream",
     "text": [
      "[[  6.40349221e-01   2.33795224e+01  -2.31941482e+00]\n",
      " [  2.33795224e+01   1.80333955e+03  -5.74516527e+01]\n",
      " [ -2.31941482e+00  -5.74516527e+01   3.21817197e+02]]\n"
     ]
    }
   ],
   "source": [
    "# Covariance table for linear regression\n",
    "covtable_ols=np.cov(df_ols,rowvar=False)\n",
    "print(np.cov(df_ols,rowvar=False))"
   ]
  },
  {
   "cell_type": "code",
   "execution_count": 342,
   "metadata": {
    "collapsed": false
   },
   "outputs": [
    {
     "name": "stdout",
     "output_type": "stream",
     "text": [
      "3\n"
     ]
    }
   ],
   "source": [
    "covmatdim=min(df_ols.shape)\n",
    "print(covmatdim) # kovarianssimatriisin dimensio\n"
   ]
  },
  {
   "cell_type": "code",
   "execution_count": 343,
   "metadata": {
    "collapsed": false
   },
   "outputs": [
    {
     "name": "stdout",
     "output_type": "stream",
     "text": [
      "i,j,corrcoeff: 0 1 0.688000000094\n",
      "i,j,corrcoeff: 0 2 -0.161571724668\n",
      "i,j,corrcoeff: 1 2 -0.0754152453363\n"
     ]
    }
   ],
   "source": [
    "# Correlation coefficients for the variables chosen for linreg \n",
    "for i in range(covmatdim+1):\n",
    "    for j in range(i+1,covmatdim):\n",
    "        print('i,j,corrcoeff:',i,j,covtable_ols[i,j]/np.sqrt(covtable_ols[i,i]*covtable_ols[j,j]))\n"
   ]
  },
  {
   "cell_type": "markdown",
   "metadata": {},
   "source": [
    "Note: As could be expected, there is correlation between Talotiedot and m2."
   ]
  },
  {
   "cell_type": "markdown",
   "metadata": {},
   "source": [
    "## A. Korreloivat tekijät"
   ]
  },
  {
   "cell_type": "markdown",
   "metadata": {},
   "source": [
    "A. Mitkä tekijät korreloivat eniten keskenään? Kovarianssimatriisista:\n",
    "Huoneet vs. Vh 10+4, 2+5\n",
    "Talotiedot vs. Vh 10+4, 3+5\n",
    "m2 vs. Vh 10+6, 4+5\n",
    "Vh vs. neliohinta 10+5, 5+6 \n",
    "Vh vs. Rv 10+3, 5+7\n",
    "Rv vs. Neliohinta 10+3, 6+7   \n",
    "Kaup. osa vs. Vh 10+3, 1+5"
   ]
  },
  {
   "cell_type": "markdown",
   "metadata": {},
   "source": [
    "Korrelaatiokertoimia"
   ]
  },
  {
   "cell_type": "code",
   "execution_count": 344,
   "metadata": {
    "collapsed": false
   },
   "outputs": [
    {
     "name": "stdout",
     "output_type": "stream",
     "text": [
      "Korrelaatiokertoimia\n",
      "huoneidan maara vs Vh: 0.697461741747\n",
      "talot. vs Vh: 0.638948117925\n",
      "m2 vs Vh: 0.74469928379\n",
      "nelioh. vs Vh: 0.311724769119\n",
      "Rv vs Vh: 0.239858957082\n",
      "Rv vs nelioh: 0.372725970525\n",
      "Kaup.osa vs Vh: -0.0126010049556\n"
     ]
    }
   ],
   "source": [
    "#covtable.shape\n",
    "print('Korrelaatiokertoimia')\n",
    "print('huoneidan maara vs Vh:',covtable[1,4]/np.sqrt(covtable[1,1]*covtable[4,4]))\n",
    "print('talot. vs Vh:',covtable[2,4]/np.sqrt(covtable[2,2]*covtable[4,4]))\n",
    "print('m2 vs Vh:',covtable[3,4]/np.sqrt(covtable[3,3]*covtable[4,4]))\n",
    "print('nelioh. vs Vh:',covtable[4,5]/np.sqrt(covtable[5,5]*covtable[4,4]))\n",
    "print('Rv vs Vh:',covtable[6,4]/np.sqrt(covtable[4,4]*covtable[6,6]))\n",
    "print('Rv vs nelioh:',covtable[6,5]/np.sqrt(covtable[5,5]*covtable[6,6]))\n",
    "print('Kaup.osa vs Vh:',covtable[0,4]/np.sqrt(covtable[0,0]*covtable[4,4]))\n"
   ]
  },
  {
   "cell_type": "markdown",
   "metadata": {},
   "source": [
    "## B. PCA"
   ]
  },
  {
   "cell_type": "code",
   "execution_count": 345,
   "metadata": {
    "collapsed": true
   },
   "outputs": [],
   "source": [
    "from sklearn.decomposition import PCA\n",
    "pca = PCA()"
   ]
  },
  {
   "cell_type": "code",
   "execution_count": 346,
   "metadata": {
    "collapsed": false
   },
   "outputs": [
    {
     "name": "stdout",
     "output_type": "stream",
     "text": [
      "[[  7.62393541e+09   2.88853279e-09  -6.95413641e-11   2.41785668e-12\n",
      "   -3.57641301e-12   3.12446411e-12   1.01023873e-12]\n",
      " [  2.88853279e-09   4.76792956e+05  -4.84830637e-13   1.24250968e-12\n",
      "   -1.59861184e-13   4.44253181e-14  -8.01054949e-14]\n",
      " [ -6.95413641e-11  -4.84830637e-13   3.13189438e+02   3.12638804e-14\n",
      "    3.81370149e-15  -2.01206573e-16   8.40011821e-16]\n",
      " [  2.41785668e-12   1.24250968e-12   3.12638804e-14   1.88442141e+02\n",
      "   -1.09314267e-17   1.70530257e-15   2.41584530e-15]\n",
      " [ -3.57641301e-12  -1.59861184e-13   3.81370149e-15  -1.09314267e-17\n",
      "    1.00173991e+01  -1.09314267e-17  -7.68615940e-18]\n",
      " [  3.12446411e-12   4.44253181e-14  -2.01206573e-16   1.70530257e-15\n",
      "   -1.09314267e-17   3.06190676e-01   0.00000000e+00]\n",
      " [  2.44304269e-12  -7.80066610e-14   7.58026121e-16   2.43770815e-15\n",
      "   -7.68615940e-18   0.00000000e+00   2.32925497e-01]]\n"
     ]
    }
   ],
   "source": [
    "df_pca = pca.fit_transform(df)\n",
    "print(np.cov(df_pca, rowvar=False))\n",
    "#print(df_pca)\n"
   ]
  },
  {
   "cell_type": "code",
   "execution_count": 347,
   "metadata": {
    "collapsed": false
   },
   "outputs": [
    {
     "name": "stdout",
     "output_type": "stream",
     "text": [
      "[  7.60054911e+09   4.75330401e+05   3.12228735e+02   1.87864098e+02\n",
      "   9.98667084e+00   3.05251441e-01   2.32211002e-01]\n"
     ]
    }
   ],
   "source": [
    "print(pca.explained_variance_)"
   ]
  },
  {
   "cell_type": "markdown",
   "metadata": {},
   "source": [
    "-> Four main factors explaining the variance"
   ]
  },
  {
   "cell_type": "code",
   "execution_count": 348,
   "metadata": {
    "collapsed": false
   },
   "outputs": [],
   "source": [
    "\n",
    "plt.plot(np.log(pca.explained_variance_),'bo');\n",
    "plt.plot(np.log(pca.explained_variance_),'k');\n",
    "plt.ylabel('log')\n",
    "plt.show()"
   ]
  },
  {
   "cell_type": "markdown",
   "metadata": {},
   "source": [
    "## C. OLS"
   ]
  },
  {
   "cell_type": "code",
   "execution_count": 349,
   "metadata": {
    "collapsed": false
   },
   "outputs": [
    {
     "name": "stdout",
     "output_type": "stream",
     "text": [
      "     2     3       6  const\n",
      "0  0.0  32.0  2016.0      1\n",
      "1  0.0  35.0  1984.0      1\n",
      "2  0.0  35.0  1975.0      1\n",
      "3  0.0  45.0  2007.0      1\n",
      "4  0.0  21.0  1960.0      1\n",
      "0    135950.0\n",
      "1     95000.0\n",
      "2     90000.0\n",
      "3    148500.0\n",
      "4    114000.0\n",
      "Name: 4, dtype: float64\n"
     ]
    }
   ],
   "source": [
    "xx= sm.add_constant(df_ols,prepend=False)\n",
    "print(xx.head())\n",
    "print(df_target.head())"
   ]
  },
  {
   "cell_type": "code",
   "execution_count": 350,
   "metadata": {
    "collapsed": false
   },
   "outputs": [
    {
     "name": "stdout",
     "output_type": "stream",
     "text": [
      "                            OLS Regression Results                            \n",
      "==============================================================================\n",
      "Dep. Variable:                      4   R-squared:                       0.692\n",
      "Model:                            OLS   Adj. R-squared:                  0.689\n",
      "Method:                 Least Squares   F-statistic:                     241.1\n",
      "Date:                Sat, 04 Jun 2016   Prob (F-statistic):           5.44e-82\n",
      "Time:                        23:02:39   Log-Likelihood:                -3979.1\n",
      "No. Observations:                 326   AIC:                             7966.\n",
      "Df Residuals:                     322   BIC:                             7981.\n",
      "Df Model:                           3                                         \n",
      "Covariance Type:            nonrobust                                         \n",
      "==============================================================================\n",
      "                 coef    std err          t      P>|t|      [95.0% Conf. Int.]\n",
      "------------------------------------------------------------------------------\n",
      "2           3.377e+04   4704.525      7.178      0.000      2.45e+04   4.3e+04\n",
      "3           1144.8438     87.736     13.049      0.000       972.235  1317.453\n",
      "6           1615.2196    152.729     10.576      0.000      1314.747  1915.692\n",
      "const      -3.156e+06   3.04e+05    -10.366      0.000     -3.75e+06 -2.56e+06\n",
      "==============================================================================\n",
      "Omnibus:                       41.418   Durbin-Watson:                   2.029\n",
      "Prob(Omnibus):                  0.000   Jarque-Bera (JB):              225.303\n",
      "Skew:                          -0.296   Prob(JB):                     1.19e-49\n",
      "Kurtosis:                       7.029   Cond. No.                     2.25e+05\n",
      "==============================================================================\n",
      "\n",
      "Warnings:\n",
      "[1] Standard Errors assume that the covariance matrix of the errors is correctly specified.\n",
      "[2] The condition number is large, 2.25e+05. This might indicate that there are\n",
      "strong multicollinearity or other numerical problems.\n"
     ]
    }
   ],
   "source": [
    "results = sm.OLS(df_target, xx).fit()\n",
    "print(results.summary())\n"
   ]
  },
  {
   "cell_type": "code",
   "execution_count": null,
   "metadata": {
    "collapsed": true
   },
   "outputs": [],
   "source": []
  }
 ],
 "metadata": {
  "kernelspec": {
   "display_name": "Python 3",
   "language": "python",
   "name": "python3"
  },
  "language_info": {
   "codemirror_mode": {
    "name": "ipython",
    "version": 3
   },
   "file_extension": ".py",
   "mimetype": "text/x-python",
   "name": "python",
   "nbconvert_exporter": "python",
   "pygments_lexer": "ipython3",
   "version": "3.5.1"
  }
 },
 "nbformat": 4,
 "nbformat_minor": 0
}
