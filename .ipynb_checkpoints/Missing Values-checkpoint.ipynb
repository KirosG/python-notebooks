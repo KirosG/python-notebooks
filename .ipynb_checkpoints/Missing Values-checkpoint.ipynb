{
 "cells": [
  {
   "cell_type": "markdown",
   "metadata": {},
   "source": [
    "# How to check and handle missing values\n",
    "Sources about imputing missing values:\n",
    "http://scikit-learn.org/stable/modules/preprocessing.html#imputation-of-missing-values, \n",
    "http://www.analyticsvidhya.com/blog/2016/03/tutorial-powerful-packages-imputing-missing-values/"
   ]
  },
  {
   "cell_type": "code",
   "execution_count": 136,
   "metadata": {
    "collapsed": true
   },
   "outputs": [],
   "source": [
    "import pandas as pd"
   ]
  },
  {
   "cell_type": "code",
   "execution_count": 137,
   "metadata": {
    "collapsed": false
   },
   "outputs": [
    {
     "name": "stdout",
     "output_type": "stream",
     "text": [
      "raw data dataframe size: (326, 12)\n"
     ]
    }
   ],
   "source": [
    "rawdata='C:/Python34/datasets/nurmijarvi_asunnot_250316.csv'\n",
    "df = pd.read_csv(rawdata)\n",
    "print(\"raw data dataframe size:\",df.shape)"
   ]
  },
  {
   "cell_type": "code",
   "execution_count": 138,
   "metadata": {
    "collapsed": false
   },
   "outputs": [
    {
     "name": "stdout",
     "output_type": "stream",
     "text": [
      "         Huoneet          m2             Vh   Neliohinta           Rv\n",
      "count  326.00000  326.000000     326.000000   326.000000   326.000000\n",
      "mean     3.07362   92.549693  198117.846626  2241.496933  1991.128834\n",
      "std      0.94825   42.465746   87314.850608   726.253123    17.939264\n",
      "min      1.00000   21.000000   21525.000000   439.000000  1901.000000\n",
      "25%      2.00000   60.000000  145000.000000  1843.250000  1979.000000\n",
      "50%      3.00000   80.750000  190250.000000  2197.000000  1990.000000\n",
      "75%      4.00000  117.000000  244750.000000  2657.000000  2005.750000\n",
      "max      4.00000  238.000000  495000.000000  5429.000000  2016.000000\n",
      "Klaukkala     158\n",
      "Kirkonkylä     78\n",
      "Rajamäki       42\n",
      "Röykkä          8\n",
      "Lepsämä         6\n",
      "Nurmijärvi      6\n",
      "Perttula        6\n",
      "Palojoki        2\n",
      "Mäntysalo       1\n",
      "Alppila         1\n",
      "Raala           1\n",
      "Name: Kaupunginosa, dtype: int64\n"
     ]
    }
   ],
   "source": [
    "print(df.describe())\n",
    "print(df['Kaupunginosa'].value_counts())"
   ]
  },
  {
   "cell_type": "markdown",
   "metadata": {},
   "source": [
    "Check which columns have missing values"
   ]
  },
  {
   "cell_type": "code",
   "execution_count": 139,
   "metadata": {
    "collapsed": false
   },
   "outputs": [
    {
     "name": "stdout",
     "output_type": "stream",
     "text": [
      "Missing values in columns:\n",
      " Kaupunginosa     17\n",
      "Huoneet           0\n",
      "Huoneisto         0\n",
      "Talotiedot        0\n",
      "m2                0\n",
      "Vh                0\n",
      "Neliohinta        0\n",
      "Rv                0\n",
      "Krs             138\n",
      "Hissi             0\n",
      "Kunto             0\n",
      "Unnamed: 11     321\n",
      "dtype: int64\n"
     ]
    }
   ],
   "source": [
    "missValues=df.apply(lambda x: sum(x.isnull()),axis=0)\n",
    "print('Missing values in columns:\\n',missValues)"
   ]
  },
  {
   "cell_type": "markdown",
   "metadata": {},
   "source": [
    "## Replace by a known value"
   ]
  },
  {
   "cell_type": "code",
   "execution_count": 140,
   "metadata": {
    "collapsed": true
   },
   "outputs": [],
   "source": [
    "df['Kaupunginosa'].fillna('Nurmijarvi', inplace=True)"
   ]
  },
  {
   "cell_type": "code",
   "execution_count": 141,
   "metadata": {
    "collapsed": false
   },
   "outputs": [
    {
     "name": "stdout",
     "output_type": "stream",
     "text": [
      "Missing values in columns:\n",
      " Kaupunginosa      0\n",
      "Huoneet           0\n",
      "Huoneisto         0\n",
      "Talotiedot        0\n",
      "m2                0\n",
      "Vh                0\n",
      "Neliohinta        0\n",
      "Rv                0\n",
      "Krs             138\n",
      "Hissi             0\n",
      "Kunto             0\n",
      "Unnamed: 11     321\n",
      "dtype: int64\n"
     ]
    }
   ],
   "source": [
    "missValues=df.apply(lambda x: sum(x.isnull()),axis=0)\n",
    "print('Missing values in columns:\\n',missValues)"
   ]
  },
  {
   "cell_type": "markdown",
   "metadata": {},
   "source": [
    "## Drop the lines with missing values"
   ]
  },
  {
   "cell_type": "code",
   "execution_count": 142,
   "metadata": {
    "collapsed": false
   },
   "outputs": [
    {
     "name": "stdout",
     "output_type": "stream",
     "text": [
      "raw data dataframe size: (326, 12)\n",
      "        Huoneet         m2             Vh   Neliohinta           Rv\n",
      "count  5.000000   5.000000       5.000000     5.000000     5.000000\n",
      "mean   2.600000  68.700000  105573.200000  1610.800000  1978.000000\n",
      "std    0.894427  16.407315   27724.200461   512.872499     8.689074\n",
      "min    1.000000  40.000000   82500.000000  1051.000000  1969.000000\n",
      "25%    3.000000  70.000000   89000.000000  1141.000000  1973.000000\n",
      "50%    3.000000  77.000000   90000.000000  1677.000000  1974.000000\n",
      "75%    3.000000  78.000000  117366.000000  1935.000000  1984.000000\n",
      "max    3.000000  78.500000  149000.000000  2250.000000  1990.000000\n",
      "dataframe size when lines with missing values dropped: (5, 12)\n"
     ]
    }
   ],
   "source": [
    "rawdata='C:/Python34/datasets/nurmijarvi_asunnot_250316.csv'\n",
    "df = pd.read_csv(rawdata)\n",
    "print(\"raw data dataframe size:\",df.shape)\n",
    "df_drop=df.dropna()\n",
    "print(df_drop.describe())\n",
    "print(\"dataframe size when lines with missing values dropped:\",df_drop.shape)"
   ]
  },
  {
   "cell_type": "markdown",
   "metadata": {},
   "source": [
    "## Use a mean value for numerical data\n",
    "http://scikit-learn.org/stable/modules/preprocessing.html#imputation-of-missing-values\n"
   ]
  },
  {
   "cell_type": "code",
   "execution_count": 143,
   "metadata": {
    "collapsed": false
   },
   "outputs": [],
   "source": [
    "import numpy as np\n",
    "from sklearn.preprocessing import Imputer"
   ]
  },
  {
   "cell_type": "markdown",
   "metadata": {},
   "source": [
    "strategy='mean' or 'median' or 'most_frequent'"
   ]
  },
  {
   "cell_type": "code",
   "execution_count": 144,
   "metadata": {
    "collapsed": false
   },
   "outputs": [
    {
     "name": "stdout",
     "output_type": "stream",
     "text": [
      "[[nan, 2], [6, nan], [7, 6]]\n"
     ]
    }
   ],
   "source": [
    "# Missing value NaN\n",
    "imp = Imputer(missing_values='NaN', strategy='mean', axis=0) # Mean of the column\n",
    "X = [[np.nan, 2], [6, np.nan], [7, 6]]\n",
    "print(X)"
   ]
  },
  {
   "cell_type": "code",
   "execution_count": 145,
   "metadata": {
    "collapsed": false
   },
   "outputs": [
    {
     "name": "stdout",
     "output_type": "stream",
     "text": [
      "[[ 6.5  2. ]\n",
      " [ 6.   4. ]\n",
      " [ 7.   6. ]]\n"
     ]
    }
   ],
   "source": [
    "imp.fit(X)\n",
    "print(imp.transform(X))  "
   ]
  },
  {
   "cell_type": "code",
   "execution_count": 146,
   "metadata": {
    "collapsed": false
   },
   "outputs": [
    {
     "name": "stdout",
     "output_type": "stream",
     "text": [
      "[[ 6.5  2. ]\n",
      " [ 6.   4. ]\n",
      " [ 7.   6. ]]\n"
     ]
    }
   ],
   "source": [
    "imp = Imputer(missing_values='NaN', strategy='mean', axis=0) # Mean of the column\n",
    "X = [[np.nan, 2], [6, np.nan], [7, 6]]\n",
    "print(imp.fit_transform(X))  "
   ]
  },
  {
   "cell_type": "code",
   "execution_count": 147,
   "metadata": {
    "collapsed": false
   },
   "outputs": [],
   "source": [
    "# Missing value 0\n",
    "imp = Imputer(missing_values=0, strategy='mean', axis=0) # Mean of the column"
   ]
  },
  {
   "cell_type": "code",
   "execution_count": 148,
   "metadata": {
    "collapsed": false
   },
   "outputs": [
    {
     "name": "stdout",
     "output_type": "stream",
     "text": [
      "[[0 2]\n",
      " [6 0]\n",
      " [7 6]]\n",
      "[[ 6.5  2. ]\n",
      " [ 6.   4. ]\n",
      " [ 7.   6. ]]\n"
     ]
    }
   ],
   "source": [
    "Y=np.matrix('0 2; 6 0; 7 6')\n",
    "print(Y)\n",
    "imp.fit(Y)\n",
    "print(imp.transform(Y))"
   ]
  },
  {
   "cell_type": "markdown",
   "metadata": {},
   "source": [
    "Off-topic"
   ]
  },
  {
   "cell_type": "code",
   "execution_count": 149,
   "metadata": {
    "collapsed": false
   },
   "outputs": [
    {
     "name": "stdout",
     "output_type": "stream",
     "text": [
      "[[ nan   2.  nan]\n",
      " [ nan  nan  nan]\n",
      " [ nan  nan  nan]]\n"
     ]
    }
   ],
   "source": [
    "# Off-topic: testing np matrix with NAN\n",
    "Y=np.empty((3,3)) \n",
    "Y[:]=np.NAN\n",
    "Y[0,1]=2\n",
    "print(Y)\n"
   ]
  },
  {
   "cell_type": "code",
   "execution_count": 150,
   "metadata": {
    "collapsed": false
   },
   "outputs": [
    {
     "data": {
      "text/plain": [
       "[['a', 1, 2], ['b', 1, 1], ['b', 2, 2], [nan, nan, nan]]"
      ]
     },
     "execution_count": 150,
     "metadata": {},
     "output_type": "execute_result"
    }
   ],
   "source": [
    "data = [\n",
    "    ['a', 1, 2],\n",
    "    ['b', 1, 1],\n",
    "    ['b', 2, 2],\n",
    "    [np.nan, np.nan, np.nan]\n",
    "]\n",
    "data"
   ]
  }
 ],
 "metadata": {
  "kernelspec": {
   "display_name": "Python 3",
   "language": "python",
   "name": "python3"
  },
  "language_info": {
   "codemirror_mode": {
    "name": "ipython",
    "version": 3
   },
   "file_extension": ".py",
   "mimetype": "text/x-python",
   "name": "python",
   "nbconvert_exporter": "python",
   "pygments_lexer": "ipython3",
   "version": "3.5.1"
  }
 },
 "nbformat": 4,
 "nbformat_minor": 0
}
