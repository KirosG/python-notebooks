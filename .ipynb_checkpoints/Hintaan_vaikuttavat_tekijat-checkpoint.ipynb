{
 "cells": [
  {
   "cell_type": "markdown",
   "metadata": {},
   "source": [
    "Tarkastellaan asuntojen hintojen muodustumista.\n",
    "\n",
    "Datassa seuraavat muuttujat \n",
    "['Kaupunginosa','Huoneet','Talotiedot','m2','Vh','Neliohinta','Rv']\n",
    "\n",
    "Millaisia korrelaatiota eri tekijöiden välillä on?\n",
    "Mitkä tekijät selittävät asunnon velatonta hintaa tai neliöhintaa? \n",
    "\n",
    "Pääkomponenttianalyysi (PCA)\n",
    "\n",
    "Ennustava malli esimerkiksi: Vh ~ Kaupunginosa, Huoneet, Talotiedoet, m2, Rv\n",
    "Ennustava malli esimerkiksi: Neliohinta ~ Kaupunginosa, Huoneet, Talotiedoet, m2, Rv\n",
    "\n"
   ]
  },
  {
   "cell_type": "code",
   "execution_count": 52,
   "metadata": {
    "collapsed": false
   },
   "outputs": [],
   "source": [
    "import numpy as np\n",
    "import pandas as pd\n",
    "import matplotlib.pyplot as plt\n",
    "from math import sqrt "
   ]
  },
  {
   "cell_type": "code",
   "execution_count": 39,
   "metadata": {
    "collapsed": false
   },
   "outputs": [],
   "source": [
    "rawdata='C://Python34/datasets/asunnot_250316_cleaned_numerical2.csv'\n",
    "df_raw = pd.read_csv(rawdata,header=None)\n",
    "column_names = ['Kaupunginosa','Huoneet','Talotiedot','m2','Vh','Neliohinta','Rv']\n",
    "#print(df_raw.head(2))\n",
    "df=df_raw.ix[:, [0,1,2,3,4,5,6]]\n",
    "#print(df.head())\n"
   ]
  },
  {
   "cell_type": "code",
   "execution_count": 40,
   "metadata": {
    "collapsed": false
   },
   "outputs": [
    {
     "name": "stdout",
     "output_type": "stream",
     "text": [
      "[[  1.02510241e+01   1.96432279e-01   6.55592261e-02   1.24690533e+01\n",
      "   -3.52271026e+03  -3.33294082e+02  -4.91624351e+00]\n",
      " [  1.96432279e-01   8.99178858e-01   3.34478528e-01   3.17630996e+01\n",
      "    5.77472821e+04  -1.35255158e+02   3.72024540e-01]\n",
      " [  6.55592261e-02   3.34478528e-01   7.07541293e-01   1.16292345e+01\n",
      "    2.33663896e+04  -8.37534686e+00   5.37989618e-02]\n",
      " [  1.24690533e+01   3.17630996e+01   1.16292345e+01   1.80333955e+03\n",
      "    2.76126320e+06  -9.35927400e+03  -5.74516527e+01]\n",
      " [ -3.52271026e+03   5.77472821e+04   2.33663896e+04   2.76126320e+06\n",
      "    7.62388314e+09   1.97673039e+07   3.75706475e+05]\n",
      " [ -3.33294082e+02  -1.35255158e+02  -8.37534686e+00  -9.35927400e+03\n",
      "    1.97673039e+07   5.27443598e+05   4.85604040e+03]\n",
      " [ -4.91624351e+00   3.72024540e-01   5.37989618e-02  -5.74516527e+01\n",
      "    3.75706475e+05   4.85604040e+03   3.21817197e+02]]\n"
     ]
    }
   ],
   "source": [
    "covtable=np.cov(df,rowvar=False)\n",
    "print(np.cov(df,rowvar=False))"
   ]
  },
  {
   "cell_type": "markdown",
   "metadata": {},
   "source": [
    "Mitkä tekijät korreloivat eniten keskenään? Kovarianssimatriisista:\n",
    "Huoneet vs. Vh 10+4, 2+5\n",
    "Talotiedot vs. Vh 10+4, 3+5\n",
    "m2 vs. Vh 10+6, 4+5\n",
    "Vh vs. neliohinta 10+5, 5+6 \n",
    "Vh vs. Rv 10+3, 5+7\n",
    "Rv vs. Neliohinta 10+3, 6+7   \n",
    "Kaup. osa vs. Vh 10+3, 1+5"
   ]
  },
  {
   "cell_type": "markdown",
   "metadata": {},
   "source": [
    "Korrelaatiokertoimia"
   ]
  },
  {
   "cell_type": "code",
   "execution_count": 59,
   "metadata": {
    "collapsed": false
   },
   "outputs": [
    {
     "name": "stdout",
     "output_type": "stream",
     "text": [
      "Korrelaatiokertoimia\n",
      "huoneidan maara vs Vh: 0.697461741747\n",
      "talot. vs Vh: 0.318146831615\n",
      "m2 vs Vh: 0.74469928379\n",
      "nelioh. vs Vh: 0.311724769119\n",
      "Rv vs Vh: 0.239858957082\n",
      "Rv vs nelioh: 0.372725970525\n",
      "Kaup.osa vs Vh: -0.0126010049556\n"
     ]
    }
   ],
   "source": [
    "#covtable.shape\n",
    "print('Korrelaatiokertoimia')\n",
    "print('huoneidan maara vs Vh:',covtable[1,4]/sqrt(covtable[1,1]*covtable[4,4]))\n",
    "print('talot. vs Vh:',covtable[2,4]/sqrt(covtable[2,2]*covtable[4,4]))\n",
    "print('m2 vs Vh:',covtable[3,4]/sqrt(covtable[3,3]*covtable[4,4]))\n",
    "print('nelioh. vs Vh:',covtable[4,5]/sqrt(covtable[5,5]*covtable[4,4]))\n",
    "print('Rv vs Vh:',covtable[6,4]/sqrt(covtable[4,4]*covtable[6,6]))\n",
    "print('Rv vs nelioh:',covtable[6,5]/sqrt(covtable[5,5]*covtable[6,6]))\n",
    "print('Kaup.osa vs Vh:',covtable[0,4]/sqrt(covtable[0,0]*covtable[4,4]))\n"
   ]
  },
  {
   "cell_type": "code",
   "execution_count": 28,
   "metadata": {
    "collapsed": true
   },
   "outputs": [],
   "source": [
    "from sklearn.decomposition import PCA\n",
    "pca = PCA()"
   ]
  },
  {
   "cell_type": "code",
   "execution_count": 34,
   "metadata": {
    "collapsed": false
   },
   "outputs": [],
   "source": [
    "df_pca = pca.fit_transform(df)\n",
    "#print(np.cov(df_pca, rowvar=False))"
   ]
  },
  {
   "cell_type": "code",
   "execution_count": 35,
   "metadata": {
    "collapsed": false
   },
   "outputs": [
    {
     "name": "stdout",
     "output_type": "stream",
     "text": [
      "[  5.25870303e+05   2.76244912e+02   1.11742888e+00   4.40149456e-01]\n"
     ]
    }
   ],
   "source": [
    "print(pca.explained_variance_)\n",
    "#plt.plot(pca.explained_variance_);\n",
    "#plt.show()"
   ]
  }
 ],
 "metadata": {
  "kernelspec": {
   "display_name": "Python 3",
   "language": "python",
   "name": "python3"
  },
  "language_info": {
   "codemirror_mode": {
    "name": "ipython",
    "version": 3
   },
   "file_extension": ".py",
   "mimetype": "text/x-python",
   "name": "python",
   "nbconvert_exporter": "python",
   "pygments_lexer": "ipython3",
   "version": "3.5.1"
  }
 },
 "nbformat": 4,
 "nbformat_minor": 0
}
